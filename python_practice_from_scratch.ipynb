{
  "nbformat": 4,
  "nbformat_minor": 0,
  "metadata": {
    "colab": {
      "name": "python_practice_from_scratch.ipynb",
      "provenance": [],
      "authorship_tag": "ABX9TyPmk3XyazQGCPIiCBe7YNKj",
      "include_colab_link": true
    },
    "kernelspec": {
      "name": "python3",
      "display_name": "Python 3"
    },
    "language_info": {
      "name": "python"
    }
  },
  "cells": [
    {
      "cell_type": "markdown",
      "metadata": {
        "id": "view-in-github",
        "colab_type": "text"
      },
      "source": [
        "<a href=\"https://colab.research.google.com/github/brianbabukaka/brianbabukaka.github.io/blob/main/python_practice_from_scratch.ipynb\" target=\"_parent\"><img src=\"https://colab.research.google.com/assets/colab-badge.svg\" alt=\"Open In Colab\"/></a>"
      ]
    },
    {
      "cell_type": "code",
      "execution_count": 1,
      "metadata": {
        "colab": {
          "base_uri": "https://localhost:8080/"
        },
        "id": "6YkURQPSxdoV",
        "outputId": "f0c338d4-6fa7-47a6-b0ce-0f973e0d041a"
      },
      "outputs": [
        {
          "output_type": "stream",
          "name": "stdout",
          "text": [
            "About Arusha\n"
          ]
        }
      ],
      "source": [
        "name = \"about arusha\"\n",
        "print(name.title())"
      ]
    },
    {
      "cell_type": "code",
      "source": [
        "print('Th trip was shit, \"because of the cops\"')"
      ],
      "metadata": {
        "colab": {
          "base_uri": "https://localhost:8080/"
        },
        "id": "EgBkby7bxuie",
        "outputId": "26372328-ce03-450f-9e17-578726a5c119"
      },
      "execution_count": 2,
      "outputs": [
        {
          "output_type": "stream",
          "name": "stdout",
          "text": [
            "Th trip was shit, \"because of the cops\"\n"
          ]
        }
      ]
    },
    {
      "cell_type": "code",
      "source": [
        "name = \"ada love\"\n",
        "print(name.upper())"
      ],
      "metadata": {
        "colab": {
          "base_uri": "https://localhost:8080/"
        },
        "id": "hhHKiRspx-rc",
        "outputId": "dd1b1a26-b679-4316-f516-006ab6e3b43e"
      },
      "execution_count": 4,
      "outputs": [
        {
          "output_type": "stream",
          "name": "stdout",
          "text": [
            "ADA LOVE\n"
          ]
        }
      ]
    },
    {
      "cell_type": "code",
      "source": [
        "first_name = \"Brian\"\n",
        "second_name = \"Babu\"\n",
        "full_name = first_name + \" \" + second_name\n",
        "print(full_name)"
      ],
      "metadata": {
        "colab": {
          "base_uri": "https://localhost:8080/"
        },
        "id": "60rDWcG8ya_Q",
        "outputId": "d481b390-0976-4282-ddb0-77c235383e40"
      },
      "execution_count": 8,
      "outputs": [
        {
          "output_type": "stream",
          "name": "stdout",
          "text": [
            "Brian Babu\n"
          ]
        }
      ]
    },
    {
      "cell_type": "code",
      "source": [
        "print(\"python\")\n",
        "print(\"\\tpython\")\n",
        "print(\"languages:\\nJava\\nPython\\nCSharp\")"
      ],
      "metadata": {
        "colab": {
          "base_uri": "https://localhost:8080/"
        },
        "id": "uuKLG98F0X96",
        "outputId": "2fa12c49-786d-4daa-fb31-23f524b3ba7f"
      },
      "execution_count": 11,
      "outputs": [
        {
          "output_type": "stream",
          "name": "stdout",
          "text": [
            "python\n",
            "\tpython\n",
            "languages:\n",
            "Java\n",
            "Python\n",
            "CSharp\n"
          ]
        }
      ]
    },
    {
      "cell_type": "code",
      "source": [
        "foreign_langiage = \"Congolese\"\n",
        "foreign_langiage"
      ],
      "metadata": {
        "colab": {
          "base_uri": "https://localhost:8080/",
          "height": 35
        },
        "id": "5kIyxl091cDs",
        "outputId": "bcf8ca57-50ca-4eae-de40-91aa7492f299"
      },
      "execution_count": 12,
      "outputs": [
        {
          "output_type": "execute_result",
          "data": {
            "text/plain": [
              "'Congolese'"
            ],
            "application/vnd.google.colaboratory.intrinsic+json": {
              "type": "string"
            }
          },
          "metadata": {},
          "execution_count": 12
        }
      ]
    },
    {
      "cell_type": "code",
      "source": [
        "name = \"Brian\"\n",
        "message = \"Hello,\" + \" \"  + name  + \" \" + \"would you like some coffee\"\n",
        "message"
      ],
      "metadata": {
        "colab": {
          "base_uri": "https://localhost:8080/",
          "height": 35
        },
        "id": "Angfdv8I2kxL",
        "outputId": "da0e171f-d517-4af8-947b-b3441144d431"
      },
      "execution_count": 16,
      "outputs": [
        {
          "output_type": "execute_result",
          "data": {
            "text/plain": [
              "'Hello, Brian would you like some coffee'"
            ],
            "application/vnd.google.colaboratory.intrinsic+json": {
              "type": "string"
            }
          },
          "metadata": {},
          "execution_count": 16
        }
      ]
    },
    {
      "cell_type": "code",
      "source": [
        "name = \"sylvia bwari\"\n",
        "print(name.title())\n",
        "print(name.lower())\n",
        "print(name.upper())"
      ],
      "metadata": {
        "colab": {
          "base_uri": "https://localhost:8080/"
        },
        "id": "-ew_s4yp3Mvs",
        "outputId": "18e295f8-b664-44fb-e7df-9c2512570233"
      },
      "execution_count": 17,
      "outputs": [
        {
          "output_type": "stream",
          "name": "stdout",
          "text": [
            "Sylvia Bwari\n",
            "sylvia bwari\n",
            "SYLVIA BWARI\n"
          ]
        }
      ]
    },
    {
      "cell_type": "code",
      "source": [
        "print(\"Kaka said, 'strong men create easy time which inturn create weak men'\")"
      ],
      "metadata": {
        "colab": {
          "base_uri": "https://localhost:8080/"
        },
        "id": "oKlJL9cZ3wMP",
        "outputId": "29027798-4abc-4659-bb2e-a667ac15b592"
      },
      "execution_count": 18,
      "outputs": [
        {
          "output_type": "stream",
          "name": "stdout",
          "text": [
            "Kaka said, 'strong men create easy time which inturn create weak men'\n"
          ]
        }
      ]
    },
    {
      "cell_type": "code",
      "source": [
        "name = \"Kaka\"\n",
        "quote = name + \" \" + \"said, 'strong men create easy time which inturn create weak men'\"\n",
        "quote"
      ],
      "metadata": {
        "colab": {
          "base_uri": "https://localhost:8080/",
          "height": 35
        },
        "id": "WcGKm4RP3_Yr",
        "outputId": "d263c2c5-c8c7-4f61-fe1f-779b415a6a5e"
      },
      "execution_count": 20,
      "outputs": [
        {
          "output_type": "execute_result",
          "data": {
            "text/plain": [
              "\"Kaka said, 'strong men create easy time which inturn create weak men'\""
            ],
            "application/vnd.google.colaboratory.intrinsic+json": {
              "type": "string"
            }
          },
          "metadata": {},
          "execution_count": 20
        }
      ]
    },
    {
      "cell_type": "code",
      "source": [
        "activity = \"python \"\n",
        "activity.rstrip()"
      ],
      "metadata": {
        "colab": {
          "base_uri": "https://localhost:8080/",
          "height": 35
        },
        "id": "_k1OnMYc4uxh",
        "outputId": "f4b96be9-752e-4522-baa9-c9ce0338dd17"
      },
      "execution_count": 21,
      "outputs": [
        {
          "output_type": "execute_result",
          "data": {
            "text/plain": [
              "'python'"
            ],
            "application/vnd.google.colaboratory.intrinsic+json": {
              "type": "string"
            }
          },
          "metadata": {},
          "execution_count": 21
        }
      ]
    },
    {
      "cell_type": "code",
      "source": [
        "print(\"Arusha Squad:\\n\\tRozy\\n\\tMesh\\n\\tOnoka\\n\\tAlex\")"
      ],
      "metadata": {
        "colab": {
          "base_uri": "https://localhost:8080/"
        },
        "id": "JvflXlyc5RFa",
        "outputId": "ad2355e6-e8d0-4f9f-cc53-02c731f31b28"
      },
      "execution_count": 22,
      "outputs": [
        {
          "output_type": "stream",
          "name": "stdout",
          "text": [
            "Arusha Squad:\n",
            "\tRozy\n",
            "\tMesh\n",
            "\tOnoka\n",
            "\tAlex\n"
          ]
        }
      ]
    },
    {
      "cell_type": "code",
      "source": [
        "2 + 3\n",
        "3 ** 2\n",
        "0.1 + 0.2"
      ],
      "metadata": {
        "colab": {
          "base_uri": "https://localhost:8080/"
        },
        "id": "1Cc1mrBNFjCs",
        "outputId": "5b53716e-1a51-4057-f745-016f18acc242"
      },
      "execution_count": 3,
      "outputs": [
        {
          "output_type": "execute_result",
          "data": {
            "text/plain": [
              "0.30000000000000004"
            ]
          },
          "metadata": {},
          "execution_count": 3
        }
      ]
    },
    {
      "cell_type": "code",
      "source": [
        "age = 25\n",
        "message  = \"Happy\" + \" \" + str(age) + \"th Birthday!\"\n",
        "print(message)"
      ],
      "metadata": {
        "colab": {
          "base_uri": "https://localhost:8080/"
        },
        "id": "1sfaWdzPG5eB",
        "outputId": "d91aaa47-d8fb-4d9d-ee16-6e34cbcc2b74"
      },
      "execution_count": 6,
      "outputs": [
        {
          "output_type": "stream",
          "name": "stdout",
          "text": [
            "Happy 25th Birthday!\n"
          ]
        }
      ]
    },
    {
      "cell_type": "code",
      "source": [
        "# My favorite number\n",
        "favorite_number = 9 # declaring the variable which is my favorite number\n",
        "display = \"My favorite number is \" + str(favorite_number)\n",
        "print(display)"
      ],
      "metadata": {
        "colab": {
          "base_uri": "https://localhost:8080/"
        },
        "id": "O4Ci6ckUHlx_",
        "outputId": "d66ad86a-99ed-4f2f-fe83-59cb2a5a551e"
      },
      "execution_count": 8,
      "outputs": [
        {
          "output_type": "stream",
          "name": "stdout",
          "text": [
            "My favorite number is 9\n"
          ]
        }
      ]
    },
    {
      "cell_type": "code",
      "source": [
        "import this"
      ],
      "metadata": {
        "colab": {
          "base_uri": "https://localhost:8080/"
        },
        "id": "sbuK4O4iJHtg",
        "outputId": "6ca88fa7-e6ce-4565-e812-cb8feba1bbad"
      },
      "execution_count": 9,
      "outputs": [
        {
          "output_type": "stream",
          "name": "stdout",
          "text": [
            "The Zen of Python, by Tim Peters\n",
            "\n",
            "Beautiful is better than ugly.\n",
            "Explicit is better than implicit.\n",
            "Simple is better than complex.\n",
            "Complex is better than complicated.\n",
            "Flat is better than nested.\n",
            "Sparse is better than dense.\n",
            "Readability counts.\n",
            "Special cases aren't special enough to break the rules.\n",
            "Although practicality beats purity.\n",
            "Errors should never pass silently.\n",
            "Unless explicitly silenced.\n",
            "In the face of ambiguity, refuse the temptation to guess.\n",
            "There should be one-- and preferably only one --obvious way to do it.\n",
            "Although that way may not be obvious at first unless you're Dutch.\n",
            "Now is better than never.\n",
            "Although never is often better than *right* now.\n",
            "If the implementation is hard to explain, it's a bad idea.\n",
            "If the implementation is easy to explain, it may be a good idea.\n",
            "Namespaces are one honking great idea -- let's do more of those!\n"
          ]
        }
      ]
    },
    {
      "cell_type": "code",
      "source": [
        "phones = [\"samsung\", \"iphone\", \"xiaomi\", \"nothing\"]\n",
        "print(phones[1].title())\n",
        "print(phones[0].upper())\n",
        "print(phones[-1])\n",
        "message = \"My phone is \" + phones[0]\n",
        "print(message)"
      ],
      "metadata": {
        "colab": {
          "base_uri": "https://localhost:8080/"
        },
        "id": "LFduNpAyJ90b",
        "outputId": "7e2087f3-92cf-459a-99bb-a993fc2a0a9a"
      },
      "execution_count": 18,
      "outputs": [
        {
          "output_type": "stream",
          "name": "stdout",
          "text": [
            "Iphone\n",
            "SAMSUNG\n",
            "nothing\n",
            "My phone is samsung\n"
          ]
        }
      ]
    },
    {
      "cell_type": "code",
      "source": [
        "cars = [\"mazda\", \"hyundai\", \"toyota\"]\n",
        "message = \"My car is a \" + cars[0] + \" vehicle.\"\n",
        "print(message)"
      ],
      "metadata": {
        "colab": {
          "base_uri": "https://localhost:8080/"
        },
        "id": "Rfbd_8vPLz8P",
        "outputId": "08a52556-1805-46a8-aafb-e1da15935f79"
      },
      "execution_count": 20,
      "outputs": [
        {
          "output_type": "stream",
          "name": "stdout",
          "text": [
            "My car is a mazda vehicle.\n"
          ]
        }
      ]
    },
    {
      "cell_type": "code",
      "source": [
        "nduthis = [\"boxer\", \"benneli\", \"tvs\", \"haojin\"]\n",
        "print(nduthis)\n",
        "nduthis[0] = \"suzuki\"\n",
        "print(nduthis)\n",
        "nduthis.append(\"honda\")\n",
        "print(nduthis)\n",
        "nduthis.insert(0, \"yamaha\")\n",
        "print(nduthis)\n",
        "del nduthis[2]\n",
        "print(nduthis)\n",
        "popped_nduthis = nduthis.pop()\n",
        "print(popped_nduthis)"
      ],
      "metadata": {
        "colab": {
          "base_uri": "https://localhost:8080/"
        },
        "id": "-OSo6ldxNBGp",
        "outputId": "7edea1ed-473b-4ce3-da9f-45dc303b7938"
      },
      "execution_count": 26,
      "outputs": [
        {
          "output_type": "stream",
          "name": "stdout",
          "text": [
            "['boxer', 'benneli', 'tvs', 'haojin']\n",
            "['suzuki', 'benneli', 'tvs', 'haojin']\n",
            "['suzuki', 'benneli', 'tvs', 'haojin', 'honda']\n",
            "['yamaha', 'suzuki', 'benneli', 'tvs', 'haojin', 'honda']\n",
            "['yamaha', 'suzuki', 'tvs', 'haojin', 'honda']\n",
            "honda\n"
          ]
        }
      ]
    },
    {
      "cell_type": "code",
      "source": [
        "cars = [\"bmw\", \"subaru\", \"lexus\", \"toyota\", \"mazda\"]\n",
        "cars.sort(reverse=True)\n",
        "print(cars)"
      ],
      "metadata": {
        "colab": {
          "base_uri": "https://localhost:8080/"
        },
        "id": "pLJIU78CSp5c",
        "outputId": "3765160b-ce8f-45a9-d194-77e3d14410b3"
      },
      "execution_count": 28,
      "outputs": [
        {
          "output_type": "stream",
          "name": "stdout",
          "text": [
            "['toyota', 'subaru', 'mazda', 'lexus', 'bmw']\n"
          ]
        }
      ]
    }
  ]
}